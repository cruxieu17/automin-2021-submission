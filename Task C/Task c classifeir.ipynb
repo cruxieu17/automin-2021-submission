{
 "cells": [
  {
   "cell_type": "code",
   "execution_count": 3,
   "metadata": {},
   "outputs": [],
   "source": [
    "from sklearn.svm import SVC\n",
    "import pandas as pd\n",
    "import numpy as np\n",
    "from sklearn.model_selection import train_test_split\n",
    "from sklearn.metrics import accuracy_score, confusion_matrix, precision_score, recall_score\n",
    "from sklearn.ensemble import RandomForestClassifier\n",
    "import matplotlib.pyplot as plt\n",
    "from sklearn import svm, datasets\n",
    "import random\n",
    "import json\n",
    "from imblearn.over_sampling import SVMSMOTE, BorderlineSMOTE, KMeansSMOTE\n",
    "%matplotlib inline"
   ]
  },
  {
   "cell_type": "code",
   "execution_count": 4,
   "metadata": {},
   "outputs": [],
   "source": [
    "df = pd.read_csv('Task c train data scores.csv')"
   ]
  },
  {
   "cell_type": "code",
   "execution_count": 64,
   "metadata": {},
   "outputs": [],
   "source": [
    "# with open('result_TE.json') as json_file:\n",
    "#     result = json.load(json_file)"
   ]
  },
  {
   "cell_type": "code",
   "execution_count": 68,
   "metadata": {},
   "outputs": [
    {
     "data": {
      "text/plain": [
       "{'cosine_score': 0.4210240840911865, 'labels': False}"
      ]
     },
     "execution_count": 68,
     "metadata": {},
     "output_type": "execute_result"
    }
   ],
   "source": [
    "# result['doc_0']"
   ]
  },
  {
   "cell_type": "code",
   "execution_count": 69,
   "metadata": {},
   "outputs": [],
   "source": [
    "# l = []\n",
    "\n",
    "# for a,b in result.items():\n",
    "    \n",
    "#     l.append([\n",
    "#         a,  \n",
    "#         b['cosine_score'],\n",
    "#         b['labels']\n",
    "#     ])"
   ]
  },
  {
   "cell_type": "code",
   "execution_count": 70,
   "metadata": {},
   "outputs": [],
   "source": [
    "cos = pd.DataFrame(l)"
   ]
  },
  {
   "cell_type": "code",
   "execution_count": 8,
   "metadata": {},
   "outputs": [],
   "source": [
    "true_index = []\n",
    "false_index = []\n",
    "\n",
    "for i in range(df.shape[0]):\n",
    "    if df['label'][i] == True:\n",
    "        true_index.append(i)\n",
    "    else:\n",
    "        false_index.append(i)"
   ]
  },
  {
   "cell_type": "code",
   "execution_count": 10,
   "metadata": {},
   "outputs": [],
   "source": [
    "random_true = random.sample(true_index, 22)\n",
    "random_false = random.sample(false_index, 200)"
   ]
  },
  {
   "cell_type": "code",
   "execution_count": 12,
   "metadata": {},
   "outputs": [],
   "source": [
    "df1 = df.drop(df.index[random_true + random_false], axis = 0)\n",
    "df2 = pd.concat([df1, df1[df1['label']==True]])"
   ]
  },
  {
   "cell_type": "code",
   "execution_count": 15,
   "metadata": {},
   "outputs": [],
   "source": [
    "validation = pd.concat([df.iloc[random_true], df.iloc[random_false]])"
   ]
  },
  {
   "cell_type": "code",
   "execution_count": 16,
   "metadata": {},
   "outputs": [],
   "source": [
    "df2 = df2.sample(frac=1).reset_index(drop=True)"
   ]
  },
  {
   "cell_type": "code",
   "execution_count": 21,
   "metadata": {},
   "outputs": [
    {
     "data": {
      "text/html": [
       "<div>\n",
       "<style scoped>\n",
       "    .dataframe tbody tr th:only-of-type {\n",
       "        vertical-align: middle;\n",
       "    }\n",
       "\n",
       "    .dataframe tbody tr th {\n",
       "        vertical-align: top;\n",
       "    }\n",
       "\n",
       "    .dataframe thead th {\n",
       "        text-align: right;\n",
       "    }\n",
       "</style>\n",
       "<table border=\"1\" class=\"dataframe\">\n",
       "  <thead>\n",
       "    <tr style=\"text-align: right;\">\n",
       "      <th></th>\n",
       "      <th>Unnamed: 0</th>\n",
       "      <th>label</th>\n",
       "      <th>cosine similarity</th>\n",
       "      <th>jaccard similarity</th>\n",
       "      <th>rouge 1</th>\n",
       "      <th>rouge l</th>\n",
       "      <th>sequence matcher</th>\n",
       "      <th>res</th>\n",
       "    </tr>\n",
       "  </thead>\n",
       "  <tbody>\n",
       "    <tr>\n",
       "      <th>0</th>\n",
       "      <td>433</td>\n",
       "      <td>False</td>\n",
       "      <td>0.040522</td>\n",
       "      <td>0.010753</td>\n",
       "      <td>0.021277</td>\n",
       "      <td>0.021277</td>\n",
       "      <td>0.005775</td>\n",
       "      <td>1.075269</td>\n",
       "    </tr>\n",
       "    <tr>\n",
       "      <th>1</th>\n",
       "      <td>407</td>\n",
       "      <td>False</td>\n",
       "      <td>0.065026</td>\n",
       "      <td>0.031746</td>\n",
       "      <td>0.061538</td>\n",
       "      <td>0.061538</td>\n",
       "      <td>0.013947</td>\n",
       "      <td>3.174603</td>\n",
       "    </tr>\n",
       "    <tr>\n",
       "      <th>2</th>\n",
       "      <td>191</td>\n",
       "      <td>True</td>\n",
       "      <td>0.239046</td>\n",
       "      <td>0.082192</td>\n",
       "      <td>0.151899</td>\n",
       "      <td>0.075949</td>\n",
       "      <td>0.124855</td>\n",
       "      <td>8.219178</td>\n",
       "    </tr>\n",
       "    <tr>\n",
       "      <th>3</th>\n",
       "      <td>461</td>\n",
       "      <td>False</td>\n",
       "      <td>0.076447</td>\n",
       "      <td>0.033708</td>\n",
       "      <td>0.065217</td>\n",
       "      <td>0.065217</td>\n",
       "      <td>0.008056</td>\n",
       "      <td>3.370787</td>\n",
       "    </tr>\n",
       "    <tr>\n",
       "      <th>4</th>\n",
       "      <td>215</td>\n",
       "      <td>False</td>\n",
       "      <td>0.055216</td>\n",
       "      <td>0.020833</td>\n",
       "      <td>0.040816</td>\n",
       "      <td>0.040816</td>\n",
       "      <td>0.007421</td>\n",
       "      <td>2.083333</td>\n",
       "    </tr>\n",
       "    <tr>\n",
       "      <th>...</th>\n",
       "      <td>...</td>\n",
       "      <td>...</td>\n",
       "      <td>...</td>\n",
       "      <td>...</td>\n",
       "      <td>...</td>\n",
       "      <td>...</td>\n",
       "      <td>...</td>\n",
       "      <td>...</td>\n",
       "    </tr>\n",
       "    <tr>\n",
       "      <th>559</th>\n",
       "      <td>403</td>\n",
       "      <td>False</td>\n",
       "      <td>0.168687</td>\n",
       "      <td>0.072917</td>\n",
       "      <td>0.135922</td>\n",
       "      <td>0.116505</td>\n",
       "      <td>0.025431</td>\n",
       "      <td>7.291667</td>\n",
       "    </tr>\n",
       "    <tr>\n",
       "      <th>560</th>\n",
       "      <td>575</td>\n",
       "      <td>False</td>\n",
       "      <td>0.136753</td>\n",
       "      <td>0.071429</td>\n",
       "      <td>0.133333</td>\n",
       "      <td>0.133333</td>\n",
       "      <td>0.016478</td>\n",
       "      <td>7.142857</td>\n",
       "    </tr>\n",
       "    <tr>\n",
       "      <th>561</th>\n",
       "      <td>210</td>\n",
       "      <td>False</td>\n",
       "      <td>0.238145</td>\n",
       "      <td>0.071429</td>\n",
       "      <td>0.133333</td>\n",
       "      <td>0.057143</td>\n",
       "      <td>0.008818</td>\n",
       "      <td>7.142857</td>\n",
       "    </tr>\n",
       "    <tr>\n",
       "      <th>562</th>\n",
       "      <td>511</td>\n",
       "      <td>False</td>\n",
       "      <td>0.054233</td>\n",
       "      <td>0.025424</td>\n",
       "      <td>0.049587</td>\n",
       "      <td>0.049587</td>\n",
       "      <td>0.016492</td>\n",
       "      <td>2.542373</td>\n",
       "    </tr>\n",
       "    <tr>\n",
       "      <th>563</th>\n",
       "      <td>158</td>\n",
       "      <td>True</td>\n",
       "      <td>0.281695</td>\n",
       "      <td>0.103704</td>\n",
       "      <td>0.187919</td>\n",
       "      <td>0.120805</td>\n",
       "      <td>0.032079</td>\n",
       "      <td>10.370370</td>\n",
       "    </tr>\n",
       "  </tbody>\n",
       "</table>\n",
       "<p>564 rows × 8 columns</p>\n",
       "</div>"
      ],
      "text/plain": [
       "     Unnamed: 0  label  cosine similarity  jaccard similarity   rouge 1  \\\n",
       "0           433  False           0.040522            0.010753  0.021277   \n",
       "1           407  False           0.065026            0.031746  0.061538   \n",
       "2           191   True           0.239046            0.082192  0.151899   \n",
       "3           461  False           0.076447            0.033708  0.065217   \n",
       "4           215  False           0.055216            0.020833  0.040816   \n",
       "..          ...    ...                ...                 ...       ...   \n",
       "559         403  False           0.168687            0.072917  0.135922   \n",
       "560         575  False           0.136753            0.071429  0.133333   \n",
       "561         210  False           0.238145            0.071429  0.133333   \n",
       "562         511  False           0.054233            0.025424  0.049587   \n",
       "563         158   True           0.281695            0.103704  0.187919   \n",
       "\n",
       "      rouge l  sequence matcher        res  \n",
       "0    0.021277          0.005775   1.075269  \n",
       "1    0.061538          0.013947   3.174603  \n",
       "2    0.075949          0.124855   8.219178  \n",
       "3    0.065217          0.008056   3.370787  \n",
       "4    0.040816          0.007421   2.083333  \n",
       "..        ...               ...        ...  \n",
       "559  0.116505          0.025431   7.291667  \n",
       "560  0.133333          0.016478   7.142857  \n",
       "561  0.057143          0.008818   7.142857  \n",
       "562  0.049587          0.016492   2.542373  \n",
       "563  0.120805          0.032079  10.370370  \n",
       "\n",
       "[564 rows x 8 columns]"
      ]
     },
     "execution_count": 21,
     "metadata": {},
     "output_type": "execute_result"
    }
   ],
   "source": [
    "df2"
   ]
  },
  {
   "cell_type": "code",
   "execution_count": 82,
   "metadata": {},
   "outputs": [],
   "source": [
    "X = df2.drop(['label', 'rouge 1', 'rouge l', 'Unnamed: 0', 'jaccard similarity'], axis=1)\n",
    "# X = df2.drop(['min_0', 'min_1'], axis=1)\n",
    "y = df2['label']"
   ]
  },
  {
   "cell_type": "code",
   "execution_count": 83,
   "metadata": {},
   "outputs": [
    {
     "data": {
      "text/html": [
       "<div>\n",
       "<style scoped>\n",
       "    .dataframe tbody tr th:only-of-type {\n",
       "        vertical-align: middle;\n",
       "    }\n",
       "\n",
       "    .dataframe tbody tr th {\n",
       "        vertical-align: top;\n",
       "    }\n",
       "\n",
       "    .dataframe thead th {\n",
       "        text-align: right;\n",
       "    }\n",
       "</style>\n",
       "<table border=\"1\" class=\"dataframe\">\n",
       "  <thead>\n",
       "    <tr style=\"text-align: right;\">\n",
       "      <th></th>\n",
       "      <th>cosine similarity</th>\n",
       "      <th>sequence matcher</th>\n",
       "      <th>res</th>\n",
       "    </tr>\n",
       "  </thead>\n",
       "  <tbody>\n",
       "    <tr>\n",
       "      <th>0</th>\n",
       "      <td>0.040522</td>\n",
       "      <td>0.005775</td>\n",
       "      <td>1.075269</td>\n",
       "    </tr>\n",
       "    <tr>\n",
       "      <th>1</th>\n",
       "      <td>0.065026</td>\n",
       "      <td>0.013947</td>\n",
       "      <td>3.174603</td>\n",
       "    </tr>\n",
       "    <tr>\n",
       "      <th>2</th>\n",
       "      <td>0.239046</td>\n",
       "      <td>0.124855</td>\n",
       "      <td>8.219178</td>\n",
       "    </tr>\n",
       "    <tr>\n",
       "      <th>3</th>\n",
       "      <td>0.076447</td>\n",
       "      <td>0.008056</td>\n",
       "      <td>3.370787</td>\n",
       "    </tr>\n",
       "    <tr>\n",
       "      <th>4</th>\n",
       "      <td>0.055216</td>\n",
       "      <td>0.007421</td>\n",
       "      <td>2.083333</td>\n",
       "    </tr>\n",
       "    <tr>\n",
       "      <th>...</th>\n",
       "      <td>...</td>\n",
       "      <td>...</td>\n",
       "      <td>...</td>\n",
       "    </tr>\n",
       "    <tr>\n",
       "      <th>559</th>\n",
       "      <td>0.168687</td>\n",
       "      <td>0.025431</td>\n",
       "      <td>7.291667</td>\n",
       "    </tr>\n",
       "    <tr>\n",
       "      <th>560</th>\n",
       "      <td>0.136753</td>\n",
       "      <td>0.016478</td>\n",
       "      <td>7.142857</td>\n",
       "    </tr>\n",
       "    <tr>\n",
       "      <th>561</th>\n",
       "      <td>0.238145</td>\n",
       "      <td>0.008818</td>\n",
       "      <td>7.142857</td>\n",
       "    </tr>\n",
       "    <tr>\n",
       "      <th>562</th>\n",
       "      <td>0.054233</td>\n",
       "      <td>0.016492</td>\n",
       "      <td>2.542373</td>\n",
       "    </tr>\n",
       "    <tr>\n",
       "      <th>563</th>\n",
       "      <td>0.281695</td>\n",
       "      <td>0.032079</td>\n",
       "      <td>10.370370</td>\n",
       "    </tr>\n",
       "  </tbody>\n",
       "</table>\n",
       "<p>564 rows × 3 columns</p>\n",
       "</div>"
      ],
      "text/plain": [
       "     cosine similarity  sequence matcher        res\n",
       "0             0.040522          0.005775   1.075269\n",
       "1             0.065026          0.013947   3.174603\n",
       "2             0.239046          0.124855   8.219178\n",
       "3             0.076447          0.008056   3.370787\n",
       "4             0.055216          0.007421   2.083333\n",
       "..                 ...               ...        ...\n",
       "559           0.168687          0.025431   7.291667\n",
       "560           0.136753          0.016478   7.142857\n",
       "561           0.238145          0.008818   7.142857\n",
       "562           0.054233          0.016492   2.542373\n",
       "563           0.281695          0.032079  10.370370\n",
       "\n",
       "[564 rows x 3 columns]"
      ]
     },
     "execution_count": 83,
     "metadata": {},
     "output_type": "execute_result"
    }
   ],
   "source": [
    "X"
   ]
  },
  {
   "cell_type": "code",
   "execution_count": 84,
   "metadata": {},
   "outputs": [],
   "source": [
    "# X_train, X_test, y_train, y_test = train_test_split(df2.drop(['lable', 'rouge 1', 'rouge l','sequence matcher', 'res'], axis=1), df2['lable'], test_size=0.15, random_state= 10)"
   ]
  },
  {
   "cell_type": "code",
   "execution_count": 85,
   "metadata": {},
   "outputs": [],
   "source": [
    "sm = KMeansSMOTE(random_state=0)"
   ]
  },
  {
   "cell_type": "code",
   "execution_count": 86,
   "metadata": {},
   "outputs": [],
   "source": [
    "X_res, y_res = sm.fit_resample(X, y)"
   ]
  },
  {
   "cell_type": "code",
   "execution_count": 87,
   "metadata": {},
   "outputs": [],
   "source": [
    "i = []\n",
    "for k in y:\n",
    "    if k == False:\n",
    "        i.append(k)"
   ]
  },
  {
   "cell_type": "code",
   "execution_count": 88,
   "metadata": {},
   "outputs": [
    {
     "data": {
      "text/plain": [
       "460"
      ]
     },
     "execution_count": 88,
     "metadata": {},
     "output_type": "execute_result"
    }
   ],
   "source": [
    "len(i)"
   ]
  },
  {
   "cell_type": "code",
   "execution_count": null,
   "metadata": {},
   "outputs": [],
   "source": []
  },
  {
   "cell_type": "code",
   "execution_count": 89,
   "metadata": {},
   "outputs": [],
   "source": [
    "clf = SVC(kernel= 'rbf', gamma= 100)"
   ]
  },
  {
   "cell_type": "code",
   "execution_count": 90,
   "metadata": {},
   "outputs": [
    {
     "data": {
      "text/plain": [
       "SVC(gamma=100)"
      ]
     },
     "execution_count": 90,
     "metadata": {},
     "output_type": "execute_result"
    }
   ],
   "source": [
    "clf.fit(X_res,y_res)"
   ]
  },
  {
   "cell_type": "code",
   "execution_count": 91,
   "metadata": {},
   "outputs": [],
   "source": [
    "pred = clf.predict(validation.drop(['label', 'rouge 1', 'rouge l','Unnamed: 0', 'jaccard similarity'], axis=1))"
   ]
  },
  {
   "cell_type": "code",
   "execution_count": 92,
   "metadata": {},
   "outputs": [
    {
     "name": "stdout",
     "output_type": "stream",
     "text": [
      "SVM: \n",
      "\n",
      "Accuracy:  0.9009009009009009\n",
      "Precision:  0.5\n",
      "Recall:  0.13636363636363635\n"
     ]
    },
    {
     "data": {
      "text/plain": [
       "array([[197,   3],\n",
       "       [ 19,   3]])"
      ]
     },
     "execution_count": 92,
     "metadata": {},
     "output_type": "execute_result"
    }
   ],
   "source": [
    "acc = accuracy_score(validation['label'], pred)\n",
    "pre = precision_score(validation['label'], pred)\n",
    "rec = recall_score(validation['label'], pred)\n",
    "print('SVM: \\n')\n",
    "print('Accuracy: ', acc)\n",
    "print('Precision: ', pre)\n",
    "print('Recall: ', rec)\n",
    "confusion_matrix(validation['label'], pred)"
   ]
  },
  {
   "cell_type": "code",
   "execution_count": 93,
   "metadata": {},
   "outputs": [
    {
     "data": {
      "text/plain": [
       "RandomForestClassifier(max_depth=42, random_state=0)"
      ]
     },
     "execution_count": 93,
     "metadata": {},
     "output_type": "execute_result"
    }
   ],
   "source": [
    "clf_rf = RandomForestClassifier(max_depth= 42, random_state= 0)\n",
    "clf_rf.fit(X_res, y_res)"
   ]
  },
  {
   "cell_type": "code",
   "execution_count": 94,
   "metadata": {},
   "outputs": [
    {
     "data": {
      "text/plain": [
       "Index(['cosine similarity', 'sequence matcher', 'res'], dtype='object')"
      ]
     },
     "execution_count": 94,
     "metadata": {},
     "output_type": "execute_result"
    }
   ],
   "source": [
    "X_res.columns"
   ]
  },
  {
   "cell_type": "code",
   "execution_count": 96,
   "metadata": {},
   "outputs": [],
   "source": [
    "# pred = clf_rf.predict(X_test)\n",
    "pred = clf_rf.predict(validation.drop(['label', 'rouge 1', 'rouge l','Unnamed: 0', 'jaccard similarity' ], axis=1))"
   ]
  },
  {
   "cell_type": "code",
   "execution_count": 97,
   "metadata": {},
   "outputs": [
    {
     "name": "stdout",
     "output_type": "stream",
     "text": [
      "Random Forest Classifier: \n",
      "\n",
      "Accuracy:  0.8603603603603603\n",
      "Precision:  0.3333333333333333\n",
      "Recall:  0.4090909090909091\n"
     ]
    },
    {
     "data": {
      "text/plain": [
       "array([[182,  18],\n",
       "       [ 13,   9]])"
      ]
     },
     "execution_count": 97,
     "metadata": {},
     "output_type": "execute_result"
    }
   ],
   "source": [
    "acc = accuracy_score(validation['label'], pred)\n",
    "pre = precision_score(validation['label'], pred)\n",
    "rec = recall_score(validation['label'], pred)\n",
    "print('Random Forest Classifier: \\n')\n",
    "print('Accuracy: ', acc)\n",
    "print('Precision: ', pre)\n",
    "print('Recall: ', rec)\n",
    "confusion_matrix(validation['label'], pred)"
   ]
  },
  {
   "cell_type": "code",
   "execution_count": null,
   "metadata": {},
   "outputs": [],
   "source": []
  },
  {
   "cell_type": "code",
   "execution_count": 334,
   "metadata": {},
   "outputs": [
    {
     "ename": "NameError",
     "evalue": "name 'clf_rc4' is not defined",
     "output_type": "error",
     "traceback": [
      "\u001b[0;31m---------------------------------------------------------------------------\u001b[0m",
      "\u001b[0;31mNameError\u001b[0m                                 Traceback (most recent call last)",
      "\u001b[0;32m<ipython-input-334-52c2425e88e7>\u001b[0m in \u001b[0;36m<module>\u001b[0;34m\u001b[0m\n\u001b[0;32m----> 1\u001b[0;31m \u001b[0mtest_prediction\u001b[0m \u001b[0;34m=\u001b[0m \u001b[0mclf_rc4\u001b[0m\u001b[0;34m.\u001b[0m\u001b[0mpredict\u001b[0m\u001b[0;34m(\u001b[0m\u001b[0mdf1\u001b[0m\u001b[0;34m.\u001b[0m\u001b[0mdrop\u001b[0m\u001b[0;34m(\u001b[0m\u001b[0;34m[\u001b[0m\u001b[0;34m'id'\u001b[0m\u001b[0;34m,\u001b[0m \u001b[0;34m'rouge 1'\u001b[0m\u001b[0;34m,\u001b[0m \u001b[0;34m'rouge 1'\u001b[0m\u001b[0;34m,\u001b[0m\u001b[0;34m'sequence matcher'\u001b[0m\u001b[0;34m,\u001b[0m \u001b[0;34m'res'\u001b[0m\u001b[0;34m]\u001b[0m\u001b[0;34m,\u001b[0m \u001b[0maxis\u001b[0m\u001b[0;34m=\u001b[0m\u001b[0;36m1\u001b[0m\u001b[0;34m)\u001b[0m\u001b[0;34m)\u001b[0m\u001b[0;34m\u001b[0m\u001b[0;34m\u001b[0m\u001b[0m\n\u001b[0m",
      "\u001b[0;31mNameError\u001b[0m: name 'clf_rc4' is not defined"
     ]
    }
   ],
   "source": [
    "test_prediction = clf_rf.predict(df1.drop(['id', 'rouge 1', 'rouge 1','sequence matcher', 'res'], axis=1))"
   ]
  },
  {
   "cell_type": "code",
   "execution_count": 85,
   "metadata": {},
   "outputs": [],
   "source": [
    "test_prediction.reshape(1431,1)"
   ]
  },
  {
   "cell_type": "code",
   "execution_count": 193,
   "metadata": {},
   "outputs": [],
   "source": [
    "lables = pd.DataFrame(test_prediction, columns= [ 'label'])"
   ]
  },
  {
   "cell_type": "code",
   "execution_count": 194,
   "metadata": {},
   "outputs": [],
   "source": [
    "final_result = pd.concat([df1, lables], axis = 1)"
   ]
  },
  {
   "cell_type": "code",
   "execution_count": 195,
   "metadata": {},
   "outputs": [
    {
     "data": {
      "text/html": [
       "<div>\n",
       "<style scoped>\n",
       "    .dataframe tbody tr th:only-of-type {\n",
       "        vertical-align: middle;\n",
       "    }\n",
       "\n",
       "    .dataframe tbody tr th {\n",
       "        vertical-align: top;\n",
       "    }\n",
       "\n",
       "    .dataframe thead th {\n",
       "        text-align: right;\n",
       "    }\n",
       "</style>\n",
       "<table border=\"1\" class=\"dataframe\">\n",
       "  <thead>\n",
       "    <tr style=\"text-align: right;\">\n",
       "      <th></th>\n",
       "      <th>id</th>\n",
       "      <th>cosine similarity</th>\n",
       "      <th>jaccard similarity</th>\n",
       "      <th>rouge 1</th>\n",
       "      <th>rouge l</th>\n",
       "      <th>sequence matcher</th>\n",
       "      <th>res</th>\n",
       "      <th>label</th>\n",
       "    </tr>\n",
       "  </thead>\n",
       "  <tbody>\n",
       "    <tr>\n",
       "      <th>0</th>\n",
       "      <td>task_C_en_test_0043</td>\n",
       "      <td>0.073324</td>\n",
       "      <td>0.037736</td>\n",
       "      <td>0.072727</td>\n",
       "      <td>0.072727</td>\n",
       "      <td>0.017301</td>\n",
       "      <td>3.773585</td>\n",
       "      <td>False</td>\n",
       "    </tr>\n",
       "    <tr>\n",
       "      <th>1</th>\n",
       "      <td>task_C_en_test_0042</td>\n",
       "      <td>0.077440</td>\n",
       "      <td>0.040000</td>\n",
       "      <td>0.076923</td>\n",
       "      <td>0.076923</td>\n",
       "      <td>0.028933</td>\n",
       "      <td>4.000000</td>\n",
       "      <td>False</td>\n",
       "    </tr>\n",
       "    <tr>\n",
       "      <th>2</th>\n",
       "      <td>task_C_en_test_0040</td>\n",
       "      <td>0.136083</td>\n",
       "      <td>0.060606</td>\n",
       "      <td>0.114286</td>\n",
       "      <td>0.057143</td>\n",
       "      <td>0.256131</td>\n",
       "      <td>6.060606</td>\n",
       "      <td>True</td>\n",
       "    </tr>\n",
       "    <tr>\n",
       "      <th>3</th>\n",
       "      <td>task_C_en_test_0039</td>\n",
       "      <td>0.027027</td>\n",
       "      <td>0.013699</td>\n",
       "      <td>0.027027</td>\n",
       "      <td>0.027027</td>\n",
       "      <td>0.031553</td>\n",
       "      <td>1.369863</td>\n",
       "      <td>False</td>\n",
       "    </tr>\n",
       "    <tr>\n",
       "      <th>4</th>\n",
       "      <td>task_C_en_test_0037</td>\n",
       "      <td>0.081650</td>\n",
       "      <td>0.040541</td>\n",
       "      <td>0.077922</td>\n",
       "      <td>0.077922</td>\n",
       "      <td>0.011806</td>\n",
       "      <td>4.054054</td>\n",
       "      <td>False</td>\n",
       "    </tr>\n",
       "    <tr>\n",
       "      <th>...</th>\n",
       "      <td>...</td>\n",
       "      <td>...</td>\n",
       "      <td>...</td>\n",
       "      <td>...</td>\n",
       "      <td>...</td>\n",
       "      <td>...</td>\n",
       "      <td>...</td>\n",
       "      <td>...</td>\n",
       "    </tr>\n",
       "    <tr>\n",
       "      <th>1426</th>\n",
       "      <td>task_C_en_test_2551</td>\n",
       "      <td>0.000000</td>\n",
       "      <td>0.000000</td>\n",
       "      <td>0.000000</td>\n",
       "      <td>0.000000</td>\n",
       "      <td>0.215247</td>\n",
       "      <td>0.000000</td>\n",
       "      <td>False</td>\n",
       "    </tr>\n",
       "    <tr>\n",
       "      <th>1427</th>\n",
       "      <td>task_C_en_test_2543</td>\n",
       "      <td>0.058124</td>\n",
       "      <td>0.022727</td>\n",
       "      <td>0.044444</td>\n",
       "      <td>0.044444</td>\n",
       "      <td>0.182952</td>\n",
       "      <td>2.272727</td>\n",
       "      <td>False</td>\n",
       "    </tr>\n",
       "    <tr>\n",
       "      <th>1428</th>\n",
       "      <td>task_C_en_test_2541</td>\n",
       "      <td>0.073521</td>\n",
       "      <td>0.024390</td>\n",
       "      <td>0.047619</td>\n",
       "      <td>0.047619</td>\n",
       "      <td>0.118182</td>\n",
       "      <td>2.439024</td>\n",
       "      <td>False</td>\n",
       "    </tr>\n",
       "    <tr>\n",
       "      <th>1429</th>\n",
       "      <td>task_C_en_test_2544</td>\n",
       "      <td>0.128965</td>\n",
       "      <td>0.067797</td>\n",
       "      <td>0.126984</td>\n",
       "      <td>0.126984</td>\n",
       "      <td>0.002985</td>\n",
       "      <td>6.779661</td>\n",
       "      <td>False</td>\n",
       "    </tr>\n",
       "    <tr>\n",
       "      <th>1430</th>\n",
       "      <td>task_C_en_test_2548</td>\n",
       "      <td>0.000000</td>\n",
       "      <td>0.000000</td>\n",
       "      <td>0.000000</td>\n",
       "      <td>0.000000</td>\n",
       "      <td>0.014733</td>\n",
       "      <td>0.000000</td>\n",
       "      <td>False</td>\n",
       "    </tr>\n",
       "  </tbody>\n",
       "</table>\n",
       "<p>1431 rows × 8 columns</p>\n",
       "</div>"
      ],
      "text/plain": [
       "                       id  cosine similarity  jaccard similarity   rouge 1  \\\n",
       "0     task_C_en_test_0043           0.073324            0.037736  0.072727   \n",
       "1     task_C_en_test_0042           0.077440            0.040000  0.076923   \n",
       "2     task_C_en_test_0040           0.136083            0.060606  0.114286   \n",
       "3     task_C_en_test_0039           0.027027            0.013699  0.027027   \n",
       "4     task_C_en_test_0037           0.081650            0.040541  0.077922   \n",
       "...                   ...                ...                 ...       ...   \n",
       "1426  task_C_en_test_2551           0.000000            0.000000  0.000000   \n",
       "1427  task_C_en_test_2543           0.058124            0.022727  0.044444   \n",
       "1428  task_C_en_test_2541           0.073521            0.024390  0.047619   \n",
       "1429  task_C_en_test_2544           0.128965            0.067797  0.126984   \n",
       "1430  task_C_en_test_2548           0.000000            0.000000  0.000000   \n",
       "\n",
       "       rouge l  sequence matcher       res  label  \n",
       "0     0.072727          0.017301  3.773585  False  \n",
       "1     0.076923          0.028933  4.000000  False  \n",
       "2     0.057143          0.256131  6.060606   True  \n",
       "3     0.027027          0.031553  1.369863  False  \n",
       "4     0.077922          0.011806  4.054054  False  \n",
       "...        ...               ...       ...    ...  \n",
       "1426  0.000000          0.215247  0.000000  False  \n",
       "1427  0.044444          0.182952  2.272727  False  \n",
       "1428  0.047619          0.118182  2.439024  False  \n",
       "1429  0.126984          0.002985  6.779661  False  \n",
       "1430  0.000000          0.014733  0.000000  False  \n",
       "\n",
       "[1431 rows x 8 columns]"
      ]
     },
     "execution_count": 195,
     "metadata": {},
     "output_type": "execute_result"
    }
   ],
   "source": [
    "final_result"
   ]
  },
  {
   "cell_type": "code",
   "execution_count": 198,
   "metadata": {},
   "outputs": [],
   "source": [
    "final_result_lablels = final_result.drop(['cosine similarity', 'jaccard similarity', 'rouge 1', 'rouge l','sequence matcher', 'res'], axis = 1)"
   ]
  },
  {
   "cell_type": "code",
   "execution_count": 199,
   "metadata": {},
   "outputs": [],
   "source": [
    "final_result_lablels.to_csv('Test_Data_Lables.tsv', sep= '\\t')"
   ]
  },
  {
   "cell_type": "code",
   "execution_count": null,
   "metadata": {},
   "outputs": [],
   "source": []
  }
 ],
 "metadata": {
  "kernelspec": {
   "display_name": "Python 3",
   "language": "python",
   "name": "python3"
  },
  "language_info": {
   "codemirror_mode": {
    "name": "ipython",
    "version": 3
   },
   "file_extension": ".py",
   "mimetype": "text/x-python",
   "name": "python",
   "nbconvert_exporter": "python",
   "pygments_lexer": "ipython3",
   "version": "3.8.5"
  }
 },
 "nbformat": 4,
 "nbformat_minor": 4
}
