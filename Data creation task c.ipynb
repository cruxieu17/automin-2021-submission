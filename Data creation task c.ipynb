{
 "cells": [
  {
   "cell_type": "code",
   "execution_count": 1,
   "metadata": {},
   "outputs": [],
   "source": [
    "import json\n",
    "from sklearn.feature_extraction.text import CountVectorizer\n",
    "import pandas as pd\n",
    "from sklearn.metrics import euclidean_distances\n",
    "from rouge import Rouge\n",
    "import sklearn\n",
    "import numpy as np\n",
    "from nltk.corpus import stopwords\n",
    "from nltk.tokenize import word_tokenize\n",
    "import pandas as pd\n",
    "import nltk\n",
    "from nltk import word_tokenize\n",
    "from difflib import SequenceMatcher\n",
    "import enchant\n",
    "from nltk.corpus import stopwords"
   ]
  },
  {
   "cell_type": "code",
   "execution_count": 2,
   "metadata": {},
   "outputs": [],
   "source": [
    "def cosine_similarity(X,Y):\n",
    "    \n",
    "    X_list = word_tokenize(X) \n",
    "    Y_list = word_tokenize(Y)\n",
    "    sw = stopwords.words('english') \n",
    "    l1 =[];l2 =[]\n",
    "    X_set = {w for w in X_list if not w in sw} \n",
    "    Y_set = {w for w in Y_list if not w in sw}\n",
    "\n",
    "\n",
    "    rvector = X_set.union(Y_set) \n",
    "    for w in rvector:\n",
    "        if w in X_set: l1.append(1) # create a vector\n",
    "        else: l1.append(0)\n",
    "        if w in Y_set: l2.append(1)\n",
    "        else: l2.append(0)\n",
    "    c = 0\n",
    "\n",
    "\n",
    "    for i in range(len(rvector)):\n",
    "            c+= l1[i]*l2[i]\n",
    "    cosine = c / float((sum(l1)*sum(l2))**0.5)\n",
    "    return cosine"
   ]
  },
  {
   "cell_type": "code",
   "execution_count": 3,
   "metadata": {},
   "outputs": [],
   "source": [
    "def Rouge_Score(hypothesis, reference):\n",
    "    \n",
    "    rouge = Rouge()\n",
    "    scores = rouge.get_scores(hypothesis, reference)\n",
    "    \n",
    "    return scores"
   ]
  },
  {
   "cell_type": "code",
   "execution_count": 4,
   "metadata": {},
   "outputs": [],
   "source": [
    "def Jaccard_Similarity(doc1, doc2): \n",
    "    \n",
    "\n",
    "    words_doc1 = set(doc1.lower().split()) \n",
    "    words_doc2 = set(doc2.lower().split())\n",
    "    intersection = words_doc1.intersection(words_doc2)\n",
    "    union = words_doc1.union(words_doc2)\n",
    "    \n",
    "    return float(len(intersection)) / len(union)"
   ]
  },
  {
   "cell_type": "code",
   "execution_count": 5,
   "metadata": {},
   "outputs": [],
   "source": [
    "def sequence_matcher(a, b):\n",
    "    return SequenceMatcher(None, a, b).ratio()"
   ]
  },
  {
   "cell_type": "code",
   "execution_count": 6,
   "metadata": {},
   "outputs": [],
   "source": [
    "def res(a,b):\n",
    "    return len(set(a.split(' ')) & set(b.split(' '))) / float(len(set(a.split(' ')) | set(b.split(' ')))) *100"
   ]
  },
  {
   "cell_type": "code",
   "execution_count": 7,
   "metadata": {},
   "outputs": [
    {
     "data": {
      "text/plain": [
       "{'how', 'you'}"
      ]
     },
     "execution_count": 7,
     "metadata": {},
     "output_type": "execute_result"
    }
   ],
   "source": [
    "a = 'hello how are you'\n",
    "b = 'i am very good how you'\n",
    "set(a.split(' ')) & set(b.split(' '))"
   ]
  },
  {
   "cell_type": "code",
   "execution_count": 52,
   "metadata": {},
   "outputs": [
    {
     "data": {
      "text/plain": [
       "{'am', 'are', 'good', 'hello', 'how', 'i', 'very', 'you'}"
      ]
     },
     "execution_count": 52,
     "metadata": {},
     "output_type": "execute_result"
    }
   ],
   "source": [
    "# float(len(set(a.split(' ')) | set(b.split(' '))))\n",
    "set(a.split(' ')) | set(b.split(' '))"
   ]
  },
  {
   "cell_type": "code",
   "execution_count": 34,
   "metadata": {},
   "outputs": [],
   "source": [
    "def pos_tagging(a):\n",
    "    \n",
    "    text = word_tokenize(a.lower())\n",
    "    t = nltk.pos_tag(text)\n",
    "    d = enchant.Dict(\"en_US\")\n",
    "    temp = []\n",
    "    s = ' '\n",
    "    \n",
    "    for i in t:\n",
    "        if i[1] == 'NNS':\n",
    "#         or i[1] == 'NNS' or i[1] == 'JJ':\n",
    "            if i[0] not in stopwords.words('english'):\n",
    "                temp.append(i[0])\n",
    "    \n",
    "    return s.join(set(temp))"
   ]
  },
  {
   "cell_type": "code",
   "execution_count": 9,
   "metadata": {},
   "outputs": [],
   "source": [
    "with open('Task C Train Data.json') as f:\n",
    "    data = json.load(f)"
   ]
  },
  {
   "cell_type": "code",
   "execution_count": 25,
   "metadata": {},
   "outputs": [
    {
     "name": "stdout",
     "output_type": "stream",
     "text": [
      "dialogues meetings annotators transcripts participants\n"
     ]
    }
   ],
   "source": [
    "print()"
   ]
  },
  {
   "cell_type": "code",
   "execution_count": 36,
   "metadata": {},
   "outputs": [
    {
     "data": {
      "text/plain": [
       "'systems'"
      ]
     },
     "execution_count": 36,
     "metadata": {},
     "output_type": "execute_result"
    }
   ],
   "source": [
    "a = \"finished evaluation framework. improved domain adaptation and is working on next version of ASR. systems are better with mp3 compression instead of flac format\"\n",
    "pos_tagging(a)"
   ]
  },
  {
   "cell_type": "code",
   "execution_count": 14,
   "metadata": {},
   "outputs": [],
   "source": [
    "data_list = []\n",
    "\n",
    "for a,b in data.items():\n",
    "    \n",
    "    data_list.append([\n",
    "        a,  \n",
    "        pos_tagging(b['min_0']), \n",
    "        pos_tagging(b['min_1']),\n",
    "        b['labels']\n",
    "    ])"
   ]
  },
  {
   "cell_type": "code",
   "execution_count": 15,
   "metadata": {},
   "outputs": [],
   "source": [
    "df = pd.DataFrame(data_list, columns= ['id', 'min_0', 'min_1', 'label'])"
   ]
  },
  {
   "cell_type": "code",
   "execution_count": 31,
   "metadata": {},
   "outputs": [],
   "source": [
    "# df.head()"
   ]
  },
  {
   "cell_type": "code",
   "execution_count": 32,
   "metadata": {},
   "outputs": [],
   "source": [
    "temp = data_list\n",
    "for j in temp:\n",
    "    j.append(cosine_similarity(j[1], j[2]))\n",
    "    j.append(Jaccard_Similarity(j[1], j[2]))\n",
    "    j.append(Rouge_Score(j[1], j[2])[0]['rouge-1']['f'])\n",
    "    j.append(Rouge_Score(j[1], j[2])[0]['rouge-l']['f'])\n",
    "    j.append(sequence_matcher(j[1], j[2]))\n",
    "    j.append(res(j[1], j[2]))\n"
   ]
  },
  {
   "cell_type": "code",
   "execution_count": 53,
   "metadata": {},
   "outputs": [],
   "source": [
    "# temp[0]"
   ]
  },
  {
   "cell_type": "code",
   "execution_count": 40,
   "metadata": {},
   "outputs": [],
   "source": [
    "df1 = pd.DataFrame(temp, columns= ['id', 'min_0', 'min_1', 'label', 'cosine similarity', \n",
    "                                   'jaccard similarity', 'rouge 1','rouge l', \n",
    "                                   'sequence matcher', 'res'])"
   ]
  },
  {
   "cell_type": "code",
   "execution_count": 43,
   "metadata": {},
   "outputs": [
    {
     "data": {
      "text/plain": [
       "(933, 10)"
      ]
     },
     "execution_count": 43,
     "metadata": {},
     "output_type": "execute_result"
    }
   ],
   "source": [
    "df1.shape"
   ]
  },
  {
   "cell_type": "code",
   "execution_count": 46,
   "metadata": {},
   "outputs": [],
   "source": [
    "k = []\n",
    "for i in range(df1.shape[0]):\n",
    "    if df1['label'][i] not in [True, False]:\n",
    "        k.append(i)"
   ]
  },
  {
   "cell_type": "code",
   "execution_count": 47,
   "metadata": {},
   "outputs": [],
   "source": [
    "df2 = df1.drop(df1.index[k])"
   ]
  },
  {
   "cell_type": "code",
   "execution_count": 54,
   "metadata": {},
   "outputs": [
    {
     "data": {
      "text/html": [
       "<div>\n",
       "<style scoped>\n",
       "    .dataframe tbody tr th:only-of-type {\n",
       "        vertical-align: middle;\n",
       "    }\n",
       "\n",
       "    .dataframe tbody tr th {\n",
       "        vertical-align: top;\n",
       "    }\n",
       "\n",
       "    .dataframe thead th {\n",
       "        text-align: right;\n",
       "    }\n",
       "</style>\n",
       "<table border=\"1\" class=\"dataframe\">\n",
       "  <thead>\n",
       "    <tr style=\"text-align: right;\">\n",
       "      <th></th>\n",
       "      <th>id</th>\n",
       "      <th>min_0</th>\n",
       "      <th>min_1</th>\n",
       "      <th>label</th>\n",
       "      <th>cosine similarity</th>\n",
       "      <th>jaccard similarity</th>\n",
       "      <th>rouge 1</th>\n",
       "      <th>rouge l</th>\n",
       "      <th>sequence matcher</th>\n",
       "      <th>res</th>\n",
       "    </tr>\n",
       "  </thead>\n",
       "  <tbody>\n",
       "    <tr>\n",
       "      <th>0</th>\n",
       "      <td>doc_0</td>\n",
       "      <td>segmenter aggtable colleague instances compute...</td>\n",
       "      <td>consents language transcripts englishcentric c...</td>\n",
       "      <td>False</td>\n",
       "      <td>0.000000</td>\n",
       "      <td>0.000000</td>\n",
       "      <td>0.000000</td>\n",
       "      <td>0.000000</td>\n",
       "      <td>0.020619</td>\n",
       "      <td>0.000000</td>\n",
       "    </tr>\n",
       "    <tr>\n",
       "      <th>1</th>\n",
       "      <td>doc_1</td>\n",
       "      <td>proposal annotated submission meetings dialogu...</td>\n",
       "      <td>segmenter sentence conference useissue sentenc...</td>\n",
       "      <td>False</td>\n",
       "      <td>0.034300</td>\n",
       "      <td>0.015152</td>\n",
       "      <td>0.029851</td>\n",
       "      <td>0.029851</td>\n",
       "      <td>0.010870</td>\n",
       "      <td>1.515152</td>\n",
       "    </tr>\n",
       "    <tr>\n",
       "      <th>2</th>\n",
       "      <td>doc_2</td>\n",
       "      <td>protocol afternoon language december meetings ...</td>\n",
       "      <td>dissemination multilingual complete components...</td>\n",
       "      <td>False</td>\n",
       "      <td>0.075593</td>\n",
       "      <td>0.025641</td>\n",
       "      <td>0.050000</td>\n",
       "      <td>0.050000</td>\n",
       "      <td>0.161369</td>\n",
       "      <td>2.564103</td>\n",
       "    </tr>\n",
       "    <tr>\n",
       "      <th>3</th>\n",
       "      <td>doc_3</td>\n",
       "      <td>startingrunningslackcom romanian speakers gene...</td>\n",
       "      <td>videoscreen colleagues language vigilant multi...</td>\n",
       "      <td>True</td>\n",
       "      <td>0.200821</td>\n",
       "      <td>0.107692</td>\n",
       "      <td>0.194444</td>\n",
       "      <td>0.194444</td>\n",
       "      <td>0.007884</td>\n",
       "      <td>10.769231</td>\n",
       "    </tr>\n",
       "    <tr>\n",
       "      <th>4</th>\n",
       "      <td>doc_4</td>\n",
       "      <td>measures important simplify instruction extrac...</td>\n",
       "      <td>workflows meetings language evolution integrat...</td>\n",
       "      <td>False</td>\n",
       "      <td>0.104257</td>\n",
       "      <td>0.049180</td>\n",
       "      <td>0.093750</td>\n",
       "      <td>0.062500</td>\n",
       "      <td>0.005908</td>\n",
       "      <td>4.918033</td>\n",
       "    </tr>\n",
       "  </tbody>\n",
       "</table>\n",
       "</div>"
      ],
      "text/plain": [
       "      id                                              min_0  \\\n",
       "0  doc_0  segmenter aggtable colleague instances compute...   \n",
       "1  doc_1  proposal annotated submission meetings dialogu...   \n",
       "2  doc_2  protocol afternoon language december meetings ...   \n",
       "3  doc_3  startingrunningslackcom romanian speakers gene...   \n",
       "4  doc_4  measures important simplify instruction extrac...   \n",
       "\n",
       "                                               min_1  label  \\\n",
       "0  consents language transcripts englishcentric c...  False   \n",
       "1  segmenter sentence conference useissue sentenc...  False   \n",
       "2  dissemination multilingual complete components...  False   \n",
       "3  videoscreen colleagues language vigilant multi...   True   \n",
       "4  workflows meetings language evolution integrat...  False   \n",
       "\n",
       "   cosine similarity  jaccard similarity   rouge 1   rouge l  \\\n",
       "0           0.000000            0.000000  0.000000  0.000000   \n",
       "1           0.034300            0.015152  0.029851  0.029851   \n",
       "2           0.075593            0.025641  0.050000  0.050000   \n",
       "3           0.200821            0.107692  0.194444  0.194444   \n",
       "4           0.104257            0.049180  0.093750  0.062500   \n",
       "\n",
       "   sequence matcher        res  \n",
       "0          0.020619   0.000000  \n",
       "1          0.010870   1.515152  \n",
       "2          0.161369   2.564103  \n",
       "3          0.007884  10.769231  \n",
       "4          0.005908   4.918033  "
      ]
     },
     "execution_count": 54,
     "metadata": {},
     "output_type": "execute_result"
    }
   ],
   "source": [
    "df2.head()"
   ]
  },
  {
   "cell_type": "code",
   "execution_count": 55,
   "metadata": {},
   "outputs": [],
   "source": [
    "final_data = df2.drop(['id', 'min_0','min_1'], axis = 1)\n",
    "# test_scores = df1.drop(['min_0','min_1'], axis = 1)"
   ]
  },
  {
   "cell_type": "code",
   "execution_count": null,
   "metadata": {},
   "outputs": [],
   "source": [
    "test_scores"
   ]
  },
  {
   "cell_type": "code",
   "execution_count": 56,
   "metadata": {},
   "outputs": [
    {
     "data": {
      "text/html": [
       "<div>\n",
       "<style scoped>\n",
       "    .dataframe tbody tr th:only-of-type {\n",
       "        vertical-align: middle;\n",
       "    }\n",
       "\n",
       "    .dataframe tbody tr th {\n",
       "        vertical-align: top;\n",
       "    }\n",
       "\n",
       "    .dataframe thead th {\n",
       "        text-align: right;\n",
       "    }\n",
       "</style>\n",
       "<table border=\"1\" class=\"dataframe\">\n",
       "  <thead>\n",
       "    <tr style=\"text-align: right;\">\n",
       "      <th></th>\n",
       "      <th>label</th>\n",
       "      <th>cosine similarity</th>\n",
       "      <th>jaccard similarity</th>\n",
       "      <th>rouge 1</th>\n",
       "      <th>rouge l</th>\n",
       "      <th>sequence matcher</th>\n",
       "      <th>res</th>\n",
       "    </tr>\n",
       "  </thead>\n",
       "  <tbody>\n",
       "    <tr>\n",
       "      <th>0</th>\n",
       "      <td>False</td>\n",
       "      <td>0.000000</td>\n",
       "      <td>0.000000</td>\n",
       "      <td>0.000000</td>\n",
       "      <td>0.000000</td>\n",
       "      <td>0.020619</td>\n",
       "      <td>0.000000</td>\n",
       "    </tr>\n",
       "    <tr>\n",
       "      <th>1</th>\n",
       "      <td>False</td>\n",
       "      <td>0.034300</td>\n",
       "      <td>0.015152</td>\n",
       "      <td>0.029851</td>\n",
       "      <td>0.029851</td>\n",
       "      <td>0.010870</td>\n",
       "      <td>1.515152</td>\n",
       "    </tr>\n",
       "    <tr>\n",
       "      <th>2</th>\n",
       "      <td>False</td>\n",
       "      <td>0.075593</td>\n",
       "      <td>0.025641</td>\n",
       "      <td>0.050000</td>\n",
       "      <td>0.050000</td>\n",
       "      <td>0.161369</td>\n",
       "      <td>2.564103</td>\n",
       "    </tr>\n",
       "    <tr>\n",
       "      <th>3</th>\n",
       "      <td>True</td>\n",
       "      <td>0.200821</td>\n",
       "      <td>0.107692</td>\n",
       "      <td>0.194444</td>\n",
       "      <td>0.194444</td>\n",
       "      <td>0.007884</td>\n",
       "      <td>10.769231</td>\n",
       "    </tr>\n",
       "    <tr>\n",
       "      <th>4</th>\n",
       "      <td>False</td>\n",
       "      <td>0.104257</td>\n",
       "      <td>0.049180</td>\n",
       "      <td>0.093750</td>\n",
       "      <td>0.062500</td>\n",
       "      <td>0.005908</td>\n",
       "      <td>4.918033</td>\n",
       "    </tr>\n",
       "  </tbody>\n",
       "</table>\n",
       "</div>"
      ],
      "text/plain": [
       "   label  cosine similarity  jaccard similarity   rouge 1   rouge l  \\\n",
       "0  False           0.000000            0.000000  0.000000  0.000000   \n",
       "1  False           0.034300            0.015152  0.029851  0.029851   \n",
       "2  False           0.075593            0.025641  0.050000  0.050000   \n",
       "3   True           0.200821            0.107692  0.194444  0.194444   \n",
       "4  False           0.104257            0.049180  0.093750  0.062500   \n",
       "\n",
       "   sequence matcher        res  \n",
       "0          0.020619   0.000000  \n",
       "1          0.010870   1.515152  \n",
       "2          0.161369   2.564103  \n",
       "3          0.007884  10.769231  \n",
       "4          0.005908   4.918033  "
      ]
     },
     "execution_count": 56,
     "metadata": {},
     "output_type": "execute_result"
    }
   ],
   "source": [
    "final_data.head()"
   ]
  },
  {
   "cell_type": "code",
   "execution_count": 320,
   "metadata": {},
   "outputs": [],
   "source": [
    "# test_scores.to_csv('test_scores.csv')"
   ]
  },
  {
   "cell_type": "code",
   "execution_count": 66,
   "metadata": {},
   "outputs": [],
   "source": [
    "final_data.to_csv('Task c train data scores.csv')"
   ]
  },
  {
   "cell_type": "code",
   "execution_count": 58,
   "metadata": {},
   "outputs": [],
   "source": [
    "true = final_data[final_data['label'] == True]"
   ]
  },
  {
   "cell_type": "code",
   "execution_count": 59,
   "metadata": {},
   "outputs": [],
   "source": [
    "false = final_data[final_data['label'] == False]"
   ]
  },
  {
   "cell_type": "code",
   "execution_count": 60,
   "metadata": {},
   "outputs": [],
   "source": [
    "true_scores = []\n",
    "for i in true:\n",
    "    true_scores.append([true[i]])"
   ]
  },
  {
   "cell_type": "code",
   "execution_count": 65,
   "metadata": {},
   "outputs": [
    {
     "data": {
      "text/plain": [
       "(660, 7)"
      ]
     },
     "execution_count": 65,
     "metadata": {},
     "output_type": "execute_result"
    }
   ],
   "source": [
    "false.shape"
   ]
  },
  {
   "cell_type": "code",
   "execution_count": 161,
   "metadata": {},
   "outputs": [],
   "source": [
    "cst = np.array(true_scores[1])"
   ]
  },
  {
   "cell_type": "code",
   "execution_count": 162,
   "metadata": {},
   "outputs": [
    {
     "data": {
      "text/plain": [
       "0.1101300353005222"
      ]
     },
     "execution_count": 162,
     "metadata": {},
     "output_type": "execute_result"
    }
   ],
   "source": [
    "np.mean(cst)"
   ]
  },
  {
   "cell_type": "code",
   "execution_count": 160,
   "metadata": {},
   "outputs": [],
   "source": [
    "false_scores = []\n",
    "for i in false:\n",
    "    false_scores.append([false[i]])"
   ]
  },
  {
   "cell_type": "code",
   "execution_count": 163,
   "metadata": {},
   "outputs": [],
   "source": [
    "csf = np.array(false_scores[1])"
   ]
  },
  {
   "cell_type": "code",
   "execution_count": 164,
   "metadata": {},
   "outputs": [
    {
     "data": {
      "text/plain": [
       "0.040827184963721036"
      ]
     },
     "execution_count": 164,
     "metadata": {},
     "output_type": "execute_result"
    }
   ],
   "source": [
    "np.mean(csf)"
   ]
  },
  {
   "cell_type": "code",
   "execution_count": null,
   "metadata": {},
   "outputs": [],
   "source": []
  }
 ],
 "metadata": {
  "kernelspec": {
   "display_name": "Python 3",
   "language": "python",
   "name": "python3"
  },
  "language_info": {
   "codemirror_mode": {
    "name": "ipython",
    "version": 3
   },
   "file_extension": ".py",
   "mimetype": "text/x-python",
   "name": "python",
   "nbconvert_exporter": "python",
   "pygments_lexer": "ipython3",
   "version": "3.8.5"
  }
 },
 "nbformat": 4,
 "nbformat_minor": 4
}
