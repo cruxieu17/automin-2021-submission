{
 "cells": [
  {
   "cell_type": "code",
   "execution_count": 88,
   "source": [
    "from sklearn.svm import SVC\r\n",
    "import pandas as pd\r\n",
    "import numpy as np\r\n",
    "from sklearn.model_selection import train_test_split\r\n",
    "from sklearn.metrics import accuracy_score, confusion_matrix, precision_score, recall_score, f1_score\r\n",
    "from sklearn.ensemble import RandomForestClassifier\r\n",
    "import matplotlib.pyplot as plt\r\n",
    "from sklearn import svm, datasets\r\n",
    "import random\r\n",
    "from imblearn.over_sampling import SVMSMOTE, BorderlineSMOTE, KMeansSMOTE\r\n",
    "%matplotlib inline"
   ],
   "outputs": [],
   "metadata": {}
  },
  {
   "cell_type": "code",
   "execution_count": 57,
   "source": [
    "df = pd.read_csv('task-B-Scores.csv')"
   ],
   "outputs": [],
   "metadata": {}
  },
  {
   "cell_type": "code",
   "execution_count": 58,
   "source": [
    "df.shape"
   ],
   "outputs": [
    {
     "output_type": "execute_result",
     "data": {
      "text/plain": [
       "(843, 9)"
      ]
     },
     "metadata": {},
     "execution_count": 58
    }
   ],
   "metadata": {}
  },
  {
   "cell_type": "code",
   "execution_count": 59,
   "source": [
    "true_index = []\r\n",
    "false_index = []\r\n",
    "\r\n",
    "for i in range(df.shape[0]):\r\n",
    "    if df['Labels'][i] == True:\r\n",
    "        true_index.append(i)\r\n",
    "    else:\r\n",
    "        false_index.append(i)"
   ],
   "outputs": [],
   "metadata": {}
  },
  {
   "cell_type": "code",
   "execution_count": 60,
   "source": [
    "random_true = random.sample(true_index, 32)\r\n",
    "random_false = random.sample(false_index, 200)"
   ],
   "outputs": [],
   "metadata": {}
  },
  {
   "cell_type": "code",
   "execution_count": 61,
   "source": [
    "df1 = df.drop(df.index[random_true + random_false], axis = 0)\r\n",
    "df2 = pd.concat([df1, df1[df1['Labels']==True]])"
   ],
   "outputs": [],
   "metadata": {}
  },
  {
   "cell_type": "code",
   "execution_count": 62,
   "source": [
    "df2.shape"
   ],
   "outputs": [
    {
     "output_type": "execute_result",
     "data": {
      "text/plain": [
       "(694, 9)"
      ]
     },
     "metadata": {},
     "execution_count": 62
    }
   ],
   "metadata": {}
  },
  {
   "cell_type": "code",
   "execution_count": 63,
   "source": [
    "validation = pd.concat([df.iloc[random_true], df.iloc[random_false]])"
   ],
   "outputs": [],
   "metadata": {}
  },
  {
   "cell_type": "code",
   "execution_count": 64,
   "source": [
    "df2 = df2.sample(frac=1).reset_index(drop=True)"
   ],
   "outputs": [],
   "metadata": {}
  },
  {
   "cell_type": "code",
   "execution_count": 65,
   "source": [
    "X = df2.drop(['Labels', 'Score_1', 'Rouge_1','Score_2', 'Rouge_l','Sequence_matcher', 'Unnamed: 0'], axis=1)\r\n",
    "y = df2['Labels']"
   ],
   "outputs": [],
   "metadata": {}
  },
  {
   "cell_type": "code",
   "execution_count": 66,
   "source": [
    "X"
   ],
   "outputs": [
    {
     "output_type": "execute_result",
     "data": {
      "text/html": [
       "<div>\n",
       "<style scoped>\n",
       "    .dataframe tbody tr th:only-of-type {\n",
       "        vertical-align: middle;\n",
       "    }\n",
       "\n",
       "    .dataframe tbody tr th {\n",
       "        vertical-align: top;\n",
       "    }\n",
       "\n",
       "    .dataframe thead th {\n",
       "        text-align: right;\n",
       "    }\n",
       "</style>\n",
       "<table border=\"1\" class=\"dataframe\">\n",
       "  <thead>\n",
       "    <tr style=\"text-align: right;\">\n",
       "      <th></th>\n",
       "      <th>Cosine_Similarity</th>\n",
       "      <th>Res</th>\n",
       "    </tr>\n",
       "  </thead>\n",
       "  <tbody>\n",
       "    <tr>\n",
       "      <th>0</th>\n",
       "      <td>0.000000</td>\n",
       "      <td>0.000000</td>\n",
       "    </tr>\n",
       "    <tr>\n",
       "      <th>1</th>\n",
       "      <td>0.103756</td>\n",
       "      <td>3.539823</td>\n",
       "    </tr>\n",
       "    <tr>\n",
       "      <th>2</th>\n",
       "      <td>0.337884</td>\n",
       "      <td>16.826923</td>\n",
       "    </tr>\n",
       "    <tr>\n",
       "      <th>3</th>\n",
       "      <td>0.127838</td>\n",
       "      <td>4.347826</td>\n",
       "    </tr>\n",
       "    <tr>\n",
       "      <th>4</th>\n",
       "      <td>0.168359</td>\n",
       "      <td>4.901961</td>\n",
       "    </tr>\n",
       "    <tr>\n",
       "      <th>...</th>\n",
       "      <td>...</td>\n",
       "      <td>...</td>\n",
       "    </tr>\n",
       "    <tr>\n",
       "      <th>689</th>\n",
       "      <td>0.055048</td>\n",
       "      <td>2.500000</td>\n",
       "    </tr>\n",
       "    <tr>\n",
       "      <th>690</th>\n",
       "      <td>0.030069</td>\n",
       "      <td>1.086957</td>\n",
       "    </tr>\n",
       "    <tr>\n",
       "      <th>691</th>\n",
       "      <td>0.120060</td>\n",
       "      <td>3.980100</td>\n",
       "    </tr>\n",
       "    <tr>\n",
       "      <th>692</th>\n",
       "      <td>0.043519</td>\n",
       "      <td>1.075269</td>\n",
       "    </tr>\n",
       "    <tr>\n",
       "      <th>693</th>\n",
       "      <td>0.043519</td>\n",
       "      <td>1.075269</td>\n",
       "    </tr>\n",
       "  </tbody>\n",
       "</table>\n",
       "<p>694 rows × 2 columns</p>\n",
       "</div>"
      ],
      "text/plain": [
       "     Cosine_Similarity        Res\n",
       "0             0.000000   0.000000\n",
       "1             0.103756   3.539823\n",
       "2             0.337884  16.826923\n",
       "3             0.127838   4.347826\n",
       "4             0.168359   4.901961\n",
       "..                 ...        ...\n",
       "689           0.055048   2.500000\n",
       "690           0.030069   1.086957\n",
       "691           0.120060   3.980100\n",
       "692           0.043519   1.075269\n",
       "693           0.043519   1.075269\n",
       "\n",
       "[694 rows x 2 columns]"
      ]
     },
     "metadata": {},
     "execution_count": 66
    }
   ],
   "metadata": {}
  },
  {
   "cell_type": "code",
   "execution_count": 69,
   "source": [
    "sm = KMeansSMOTE(random_state=10)"
   ],
   "outputs": [],
   "metadata": {}
  },
  {
   "cell_type": "code",
   "execution_count": 70,
   "source": [
    "X_res, y_res = sm.fit_resample(X, y)"
   ],
   "outputs": [],
   "metadata": {}
  },
  {
   "cell_type": "code",
   "execution_count": 71,
   "source": [
    "X_res.shape"
   ],
   "outputs": [
    {
     "output_type": "execute_result",
     "data": {
      "text/plain": [
       "(1058, 2)"
      ]
     },
     "metadata": {},
     "execution_count": 71
    }
   ],
   "metadata": {}
  },
  {
   "cell_type": "code",
   "execution_count": 72,
   "source": [
    "clf = SVC(kernel= 'rbf', gamma= 100)"
   ],
   "outputs": [],
   "metadata": {}
  },
  {
   "cell_type": "code",
   "execution_count": 73,
   "source": [
    "clf.fit(X_res,y_res)"
   ],
   "outputs": [
    {
     "output_type": "execute_result",
     "data": {
      "text/plain": [
       "SVC(gamma=100)"
      ]
     },
     "metadata": {},
     "execution_count": 73
    }
   ],
   "metadata": {}
  },
  {
   "cell_type": "code",
   "execution_count": 74,
   "source": [
    "pred = clf.predict(validation.drop(['Labels', 'Score_1', 'Rouge_1', 'Score_2', 'Rouge_l','Sequence_matcher', 'Unnamed: 0'], axis =1))"
   ],
   "outputs": [],
   "metadata": {}
  },
  {
   "cell_type": "code",
   "execution_count": 75,
   "source": [
    "acc = accuracy_score(validation['Labels'], pred)\r\n",
    "pre = precision_score(validation['Labels'], pred)\r\n",
    "rec = recall_score(validation['Labels'], pred)\r\n",
    "print('Accuracy: ', acc)\r\n",
    "print('Precision: ', pre)\r\n",
    "print('Recall: ', rec)\r\n",
    "confusion_matrix(validation['Labels'], pred)"
   ],
   "outputs": [
    {
     "output_type": "stream",
     "name": "stdout",
     "text": [
      "Accuracy:  0.8879310344827587\n",
      "Precision:  0.65\n",
      "Recall:  0.40625\n"
     ]
    },
    {
     "output_type": "execute_result",
     "data": {
      "text/plain": [
       "array([[193,   7],\n",
       "       [ 19,  13]])"
      ]
     },
     "metadata": {},
     "execution_count": 75
    }
   ],
   "metadata": {}
  },
  {
   "cell_type": "code",
   "execution_count": 85,
   "source": [
    "clf_rf = RandomForestClassifier(max_depth= 100, random_state=10)\r\n",
    "clf_rf.fit(X_res, y_res)"
   ],
   "outputs": [
    {
     "output_type": "execute_result",
     "data": {
      "text/plain": [
       "RandomForestClassifier(max_depth=100, random_state=10)"
      ]
     },
     "metadata": {},
     "execution_count": 85
    }
   ],
   "metadata": {}
  },
  {
   "cell_type": "code",
   "execution_count": 86,
   "source": [
    "predrf = clf_rf.predict(validation.drop(['Labels', 'Score_1', 'Rouge_1', 'Score_2', 'Rouge_l','Sequence_matcher', 'Unnamed: 0'], axis =1))"
   ],
   "outputs": [],
   "metadata": {}
  },
  {
   "cell_type": "code",
   "execution_count": 89,
   "source": [
    "accrf = accuracy_score(validation['Labels'], predrf)\r\n",
    "pre = precision_score(validation['Labels'], predrf)\r\n",
    "rec = recall_score(validation['Labels'], predrf)\r\n",
    "f1 = f1_score(validation['Labels'], predrf)\r\n",
    "print('Accuracy: ', accrf)\r\n",
    "print('Precision: ', pre)\r\n",
    "print('Recall: ', rec)\r\n",
    "print('F1 Accuracy: ', f1)\r\n",
    "confusion_matrix(validation['Labels'], predrf)"
   ],
   "outputs": [
    {
     "output_type": "stream",
     "name": "stdout",
     "text": [
      "Accuracy:  0.9137931034482759\n",
      "Precision:  0.7142857142857143\n",
      "Recall:  0.625\n",
      "F1 Accuracy:  0.6666666666666666\n"
     ]
    },
    {
     "output_type": "execute_result",
     "data": {
      "text/plain": [
       "array([[192,   8],\n",
       "       [ 12,  20]])"
      ]
     },
     "metadata": {},
     "execution_count": 89
    }
   ],
   "metadata": {}
  },
  {
   "cell_type": "code",
   "execution_count": 24,
   "source": [
    "test_data = pd.read_csv('task-b-test-scores.csv')"
   ],
   "outputs": [],
   "metadata": {}
  },
  {
   "cell_type": "code",
   "execution_count": 25,
   "source": [
    "test_data.columns"
   ],
   "outputs": [
    {
     "output_type": "execute_result",
     "data": {
      "text/plain": [
       "Index(['Unnamed: 0', 'Cosine_Similarity', 'Rouge_1', 'Rouge_l',\n",
       "       'Sequence_matcher', 'Res', 'Score_1', 'Score_2', 'File_name'],\n",
       "      dtype='object')"
      ]
     },
     "metadata": {},
     "execution_count": 25
    }
   ],
   "metadata": {}
  },
  {
   "cell_type": "code",
   "execution_count": 26,
   "source": [
    "test_prediction = clf_rf.predict(test_data.drop([ 'Score_1', 'Rouge_l', 'Score_2', 'Rouge_1','Sequence_matcher', 'Unnamed: 0', 'File_name'], axis=1))"
   ],
   "outputs": [],
   "metadata": {}
  },
  {
   "cell_type": "code",
   "execution_count": 27,
   "source": [
    "test_prediction.shape"
   ],
   "outputs": [
    {
     "output_type": "execute_result",
     "data": {
      "text/plain": [
       "(972,)"
      ]
     },
     "metadata": {},
     "execution_count": 27
    }
   ],
   "metadata": {}
  },
  {
   "cell_type": "code",
   "execution_count": 29,
   "source": [
    "lables = pd.DataFrame(test_prediction, columns= [ 'Label'])"
   ],
   "outputs": [],
   "metadata": {}
  },
  {
   "cell_type": "code",
   "execution_count": 30,
   "source": [
    "final_result = pd.concat([test_data, lables], axis = 1)"
   ],
   "outputs": [],
   "metadata": {}
  },
  {
   "cell_type": "code",
   "execution_count": 31,
   "source": [
    "final_result.columns"
   ],
   "outputs": [
    {
     "output_type": "execute_result",
     "data": {
      "text/plain": [
       "Index(['Unnamed: 0', 'Cosine_Similarity', 'Rouge_1', 'Rouge_l',\n",
       "       'Sequence_matcher', 'Res', 'Score_1', 'Score_2', 'File_name', 'Label'],\n",
       "      dtype='object')"
      ]
     },
     "metadata": {},
     "execution_count": 31
    }
   ],
   "metadata": {}
  },
  {
   "cell_type": "code",
   "execution_count": 32,
   "source": [
    "final_result_lablels = x = final_result.drop(['Cosine_Similarity','Unnamed: 0', 'Rouge_l', 'Rouge_1', 'Sequence_matcher', 'Res', 'Score_1', 'Score_2'], axis = 1)"
   ],
   "outputs": [],
   "metadata": {}
  },
  {
   "cell_type": "code",
   "execution_count": 33,
   "source": [
    "x[x['Label']==True].shape"
   ],
   "outputs": [
    {
     "output_type": "execute_result",
     "data": {
      "text/plain": [
       "(66, 2)"
      ]
     },
     "metadata": {},
     "execution_count": 33
    }
   ],
   "metadata": {}
  },
  {
   "cell_type": "code",
   "execution_count": 34,
   "source": [
    "# final_result_lablels.to_csv('Task B_Predictions_EN.tsv', sep= '\\t')"
   ],
   "outputs": [],
   "metadata": {}
  }
 ],
 "metadata": {
  "kernelspec": {
   "display_name": "Python 3",
   "language": "python",
   "name": "python3"
  },
  "language_info": {
   "codemirror_mode": {
    "name": "ipython",
    "version": 3
   },
   "file_extension": ".py",
   "mimetype": "text/x-python",
   "name": "python",
   "nbconvert_exporter": "python",
   "pygments_lexer": "ipython3",
   "version": "3.8.5"
  }
 },
 "nbformat": 4,
 "nbformat_minor": 4
}
